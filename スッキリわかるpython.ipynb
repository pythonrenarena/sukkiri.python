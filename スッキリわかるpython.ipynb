{
  "nbformat": 4,
  "nbformat_minor": 0,
  "metadata": {
    "colab": {
      "provenance": [],
      "toc_visible": true,
      "authorship_tag": "ABX9TyOwV9b/niR6ybeVVCtAl9iD",
      "include_colab_link": true
    },
    "kernelspec": {
      "name": "python3",
      "display_name": "Python 3"
    },
    "language_info": {
      "name": "python"
    }
  },
  "cells": [
    {
      "cell_type": "markdown",
      "metadata": {
        "id": "view-in-github",
        "colab_type": "text"
      },
      "source": [
        "<a href=\"https://colab.research.google.com/github/pythonrenarena/sukkiri.python/blob/main/%E3%82%B9%E3%83%83%E3%82%AD%E3%83%AA%E3%82%8F%E3%81%8B%E3%82%8Bpython.ipynb\" target=\"_parent\"><img src=\"https://colab.research.google.com/assets/colab-badge.svg\" alt=\"Open In Colab\"/></a>"
      ]
    },
    {
      "cell_type": "markdown",
      "source": [
        "**[第1章　練習1-3] 問題：身長(cm)と体重（kg）BMIを算出して表示するプログラム**"
      ],
      "metadata": {
        "id": "PyuCN2xPBH3Q"
      }
    },
    {
      "cell_type": "code",
      "execution_count": null,
      "metadata": {
        "colab": {
          "base_uri": "https://localhost:8080/"
        },
        "id": "vEqiP9I5paeX",
        "outputId": "94525fee-406b-492b-9e2d-64fa8f205fa7"
      },
      "outputs": [
        {
          "output_type": "stream",
          "name": "stdout",
          "text": [
            "身長(cm)を入力してください>>154\n",
            "体重(kg)を入力してください>>45\n",
            "BMIは18.974531961544947です\n"
          ]
        }
      ],
      "source": [
        "a = float(input('身長(cm)を入力してください>>'))/100\n",
        "b = float(input('体重(kg)を入力してください>>'))\n",
        "\n",
        "BMI = b / a**2\n",
        "print('BMIは{}です'.format(BMI))"
      ]
    },
    {
      "cell_type": "markdown",
      "source": [
        "**[第1章　練習1-3] 解答例**"
      ],
      "metadata": {
        "id": "kUrBSSH8BPv3"
      }
    },
    {
      "cell_type": "code",
      "source": [
        "h = int(input('身長(cm)は? >>')) / 100\n",
        "w = float(input('体重(kg)は? >>'))\n",
        "bmi = w / h / h\n",
        "print('BMIは{}です'.format(bmi))"
      ],
      "metadata": {
        "id": "OMErNkVP2C2C",
        "colab": {
          "base_uri": "https://localhost:8080/"
        },
        "outputId": "a157d28e-87cd-4d34-d5a9-facf3949f0f3"
      },
      "execution_count": null,
      "outputs": [
        {
          "output_type": "stream",
          "name": "stdout",
          "text": [
            "身長(cm)は? >>154\n",
            "体重(kg)は? >>45\n",
            "BMIは18.974531961544947です\n"
          ]
        }
      ]
    },
    {
      "cell_type": "markdown",
      "source": [
        "**[第2章　練習問題2-2]：国語、算数、理科、社会、英語の合計と平均を算出して出力**"
      ],
      "metadata": {
        "id": "cuJxBdM4Bisj"
      }
    },
    {
      "cell_type": "code",
      "source": [
        "ja=input('国語の点数>>')\n",
        "ma=input('算数の点数>>')\n",
        "si=input('理科の点数>>')\n",
        "so=input('社会の点数>>')\n",
        "en=input('英語の点数>>')\n",
        "\n",
        "scores = {'Japanese':int(ja), 'math':int(ma), 'science':int(si), 'society':int(so), 'English':int(en)}\n",
        "total = sum(list(scores.values()))\n",
        "avarage = total / len(scores)\n",
        "print('合計{}点、平均{}点'.format(total, avarage))\n"
      ],
      "metadata": {
        "id": "RGqXLGfwcBnn",
        "colab": {
          "base_uri": "https://localhost:8080/"
        },
        "outputId": "1785ced7-d70d-4c31-ae60-1cdc10399e0c"
      },
      "execution_count": null,
      "outputs": [
        {
          "output_type": "stream",
          "name": "stdout",
          "text": [
            "国語の点数>>58\n",
            "算数の点数>>67\n",
            "理科の点数>>40\n",
            "社会の点数>>94\n",
            "英語の点数>>68\n",
            "合計327点、平均65.4点\n"
          ]
        }
      ]
    },
    {
      "cell_type": "markdown",
      "source": [
        "**[第2章　練習2-2]　解答例**"
      ],
      "metadata": {
        "id": "sNcy5B7vB4_M"
      }
    },
    {
      "cell_type": "code",
      "source": [
        "scores = []\n",
        "scores.append(int(input('国語の点数 >>')))\n",
        "scores.append(int(input('算数の点数 >>')))\n",
        "scores.append(int(input('理科の点数 >>')))\n",
        "scores.append(int(input('社会の点数 >>')))\n",
        "scores.append(int(input('英語の点数 >>')))\n",
        "print(f'合計{sum(scores)}点 平均{sum(scores) / len(scores)}点')"
      ],
      "metadata": {
        "id": "lDcAcND82JXF",
        "colab": {
          "base_uri": "https://localhost:8080/"
        },
        "outputId": "0e527231-28b7-40c7-a52d-661f1fc541ed"
      },
      "execution_count": null,
      "outputs": [
        {
          "output_type": "stream",
          "name": "stdout",
          "text": [
            "国語の点数 >>58\n",
            "算数の点数 >>67\n",
            "理科の点数 >>40\n",
            "社会の点数 >>68\n",
            "英語の点数 >>94\n",
            "合計327点 平均65.4点\n"
          ]
        }
      ]
    },
    {
      "cell_type": "markdown",
      "source": [
        "**[第2章　練習2-3] 問題：2人の趣味から、相性度を算出**"
      ],
      "metadata": {
        "id": "AZ2wP33HCK0C"
      }
    },
    {
      "cell_type": "code",
      "source": [
        "member_hobbies = {\n",
        "    '1人目':{'読書', '麻雀', '自転車','料理', 'フットサル'},\n",
        "    '2人目':{'麻雀', '食べ歩き', '料理', '読書', '野球'}\n",
        "}\n",
        "input('心の準備ができたらEnterキーを押してください')\n",
        "common = member_hobbies['1人目'] & member_hobbies['2人目']\n",
        "total = member_hobbies['1人目'] | member_hobbies['2人目']\n",
        "\n",
        "compatibility=len(common) / len(total) * 100\n",
        "\n",
        "print('相性度は'+str(compatibility)+'パーセントでした')"
      ],
      "metadata": {
        "id": "TaKajGjku9Sv"
      },
      "execution_count": null,
      "outputs": []
    },
    {
      "cell_type": "markdown",
      "source": [
        "**[第2章　練習2-3] 解答例**"
      ],
      "metadata": {
        "id": "BG4u-tZkCOGb"
      }
    },
    {
      "cell_type": "code",
      "source": [
        "player1 = {'読書', '昼寝', '映画鑑賞', '散歩', '料理'}\n",
        "player2 = {'テニス', '将棋', '料理', '読書', '旅行'}\n",
        "input('心の準備ができたらEnterキーを押してください')\n",
        "common = player1 & player2\n",
        "total = player1 | player2\n",
        "compatibility_rate = len(common) / len(total) * 100\n",
        "print(f'相性度は{compatibility_rate}パーセントでした')\n"
      ],
      "metadata": {
        "id": "-oQnbFHg3DqB"
      },
      "execution_count": null,
      "outputs": []
    },
    {
      "cell_type": "markdown",
      "source": [
        "**[第3章　練習3-3(1)]　問題：変数isErrorがFalseかつ変数nが100未満の場合のみ、画面表示を行う**"
      ],
      "metadata": {
        "id": "u-ijxKqyCXeU"
      }
    },
    {
      "cell_type": "code",
      "source": [
        "isError = False\n",
        "n = int(input('数値を入力>>'))\n",
        "\n",
        "if isError == False and n < 100:\n",
        " print('100未満です')"
      ],
      "metadata": {
        "id": "pk6bfgauAk8w"
      },
      "execution_count": null,
      "outputs": []
    },
    {
      "cell_type": "markdown",
      "source": [
        "**[第3章　練習3-3(2)] 問題：偶数か奇数を判定**"
      ],
      "metadata": {
        "id": "NxVLY2bfCczv"
      }
    },
    {
      "cell_type": "code",
      "source": [
        "n = int(input('数値を入力>>'))\n",
        "\n",
        "if n%2 == 1:\n",
        " print('奇数です')\n",
        "\n",
        "else:\n",
        " print('偶数です')\n",
        "\n"
      ],
      "metadata": {
        "id": "rkY_35ZRCo3x"
      },
      "execution_count": null,
      "outputs": []
    },
    {
      "cell_type": "markdown",
      "source": [
        " **[第3章　練習3-3(3)] 問題：入力された文字列に応じて、挨拶を表示する**"
      ],
      "metadata": {
        "id": "SgJQHXUKChV8"
      }
    },
    {
      "cell_type": "code",
      "source": [
        "greeting = str(input('言葉を入力>>'))\n",
        "\n",
        "if greeting == 'こんにちは':\n",
        " print('ようこそ！')\n",
        "elif greeting == '景気は？':\n",
        " print('ぼちぼちです')\n",
        "elif greeting == 'さようなら':\n",
        " print('お元気で！')\n",
        "else:\n",
        "  print('')"
      ],
      "metadata": {
        "id": "M3s5CxAfFauG"
      },
      "execution_count": null,
      "outputs": []
    },
    {
      "cell_type": "markdown",
      "source": [
        "**[第4章　練習4-1(1)] 問題：繰り返しの回数**"
      ],
      "metadata": {
        "id": "80xZFSb9GBFD"
      }
    },
    {
      "cell_type": "markdown",
      "source": [
        "**[第4章　練習4-1(1)]**"
      ],
      "metadata": {
        "id": "9Eg-zI_eCoYv"
      }
    },
    {
      "cell_type": "code",
      "source": [
        "count = 0\n",
        "while count < 5:\n",
        "    count += 1\n",
        "    print('a')\n",
        "\n",
        "#5回"
      ],
      "metadata": {
        "id": "5udFtFMhaE1q"
      },
      "execution_count": null,
      "outputs": []
    },
    {
      "cell_type": "markdown",
      "source": [
        "**[第4章　練習4-1(2)]**"
      ],
      "metadata": {
        "id": "__TjuCKRCqs_"
      }
    },
    {
      "cell_type": "code",
      "source": [
        "count = 1\n",
        "while count <= 5:\n",
        "    count += 1\n",
        "    print('a')\n",
        "\n",
        "#5回"
      ],
      "metadata": {
        "id": "qehvoQgCbamc"
      },
      "execution_count": null,
      "outputs": []
    },
    {
      "cell_type": "markdown",
      "source": [
        "**[第4章　練習4-1(3)]**"
      ],
      "metadata": {
        "id": "DA7bIJ79CuMG"
      }
    },
    {
      "cell_type": "code",
      "source": [
        "data = [88, 21, 65, 160, 57]\n",
        "count = 0\n",
        "while count < len(data):\n",
        "    count += 1\n",
        "    print('a')\n",
        "\n",
        "#5回"
      ],
      "metadata": {
        "id": "DEOqyLEtcFWg"
      },
      "execution_count": null,
      "outputs": []
    },
    {
      "cell_type": "markdown",
      "source": [
        "**[第4章　練習4-1(4)]**"
      ],
      "metadata": {
        "id": "KE_MIbk3CzX7"
      }
    },
    {
      "cell_type": "code",
      "source": [
        "for num in range(5):\n",
        "    print(num)\n",
        "\n",
        "#5回"
      ],
      "metadata": {
        "id": "UudBfHNKca57"
      },
      "execution_count": null,
      "outputs": []
    },
    {
      "cell_type": "markdown",
      "source": [
        "**[第4章　練習4-1(5)]**"
      ],
      "metadata": {
        "id": "CRb8dxI0C12l"
      }
    },
    {
      "cell_type": "code",
      "source": [
        "for item in [88, 21, 65, 160, 57]:\n",
        "    print(item)\n",
        "\n",
        "#5回"
      ],
      "metadata": {
        "id": "GW_2R1otcl5A"
      },
      "execution_count": null,
      "outputs": []
    },
    {
      "cell_type": "markdown",
      "source": [
        "**[第4章　練習4-1(6)]**"
      ],
      "metadata": {
        "id": "gsiWEQMmC3y-"
      }
    },
    {
      "cell_type": "code",
      "source": [
        "data = [88, 21, 65, 160, 57]\n",
        "for item in data:\n",
        "    print(item)\n",
        "\n",
        " #5回"
      ],
      "metadata": {
        "id": "h4q5Cupycyg1"
      },
      "execution_count": null,
      "outputs": []
    },
    {
      "cell_type": "markdown",
      "source": [
        "**[第4章　練習4-1(7)]**"
      ],
      "metadata": {
        "id": "KTUuCFvWDF-7"
      }
    },
    {
      "cell_type": "code",
      "source": [
        "for item in [88, 21, 65, 160, 57]:\n",
        "    if item >= 100:\n",
        "        break\n",
        "    print(item)\n",
        "\n",
        " #３回"
      ],
      "metadata": {
        "id": "wzERfoNlgJ_u"
      },
      "execution_count": null,
      "outputs": []
    },
    {
      "cell_type": "markdown",
      "source": [
        "**[第4章　練習4-1(8)]**"
      ],
      "metadata": {
        "id": "j2lu7fAxDNAI"
      }
    },
    {
      "cell_type": "code",
      "source": [
        "for item in [88, 21, 65, 160, 57]:\n",
        "    if item >= 100:\n",
        "        continue\n",
        "    print(item)\n",
        "\n",
        "   #4回"
      ],
      "metadata": {
        "id": "uJkc0c-xg_xC"
      },
      "execution_count": null,
      "outputs": []
    },
    {
      "cell_type": "markdown",
      "source": [
        "**[第4章　練習4-2] 問題：食べたカレーの枚数をカウント**"
      ],
      "metadata": {
        "id": "8Zhlb1qTDWsD"
      }
    },
    {
      "cell_type": "code",
      "source": [
        "count = 1\n",
        "ans = True\n",
        "print('カレーを召し上がれ')\n",
        "\n",
        "while ans == True:\n",
        " print('{}皿のカレーを食べました'.format(count))\n",
        " okawari=input('おかわりはいかがですか（y/n）>>')\n",
        "\n",
        " if okawari == 'y':\n",
        "   count += 1\n",
        "\n",
        " else:\n",
        "   a == False\n",
        "   print('ごちそうさまでした')\n",
        "   break"
      ],
      "metadata": {
        "id": "ACGRbHvkoKv_"
      },
      "execution_count": null,
      "outputs": []
    },
    {
      "cell_type": "markdown",
      "source": [
        "**[第4章　練習4-3] 問題：10からカウントダウン**"
      ],
      "metadata": {
        "id": "gwlMceLkDfI0"
      }
    },
    {
      "cell_type": "code",
      "source": [
        "count = 10\n",
        "\n",
        "while count >0:\n",
        "  print('{}、'.format(count),end='')\n",
        "  count -= 1\n",
        "\n",
        "print('Lift、off！')"
      ],
      "metadata": {
        "id": "bWCnhxQQbmDT"
      },
      "execution_count": null,
      "outputs": []
    },
    {
      "cell_type": "markdown",
      "source": [
        "**解答例**"
      ],
      "metadata": {
        "id": "3ODbFs7UKJj2"
      }
    },
    {
      "cell_type": "code",
      "source": [
        "for num in range(10):\n",
        "  print('{}、'.format(10-num),end='')\n",
        "\n",
        "print('Lift、off！')"
      ],
      "metadata": {
        "colab": {
          "base_uri": "https://localhost:8080/"
        },
        "id": "3Js3qtuuY7Wr",
        "outputId": "d7caf05f-bcd9-4936-eac6-dd2f93b7e6fa"
      },
      "execution_count": null,
      "outputs": [
        {
          "output_type": "stream",
          "name": "stdout",
          "text": [
            "10、9、8、7、6、5、4、3、2、1、Lift、off！\n"
          ]
        }
      ]
    },
    {
      "cell_type": "markdown",
      "source": [
        "**[第4章　練習4-4(1)]　問題：九九を計算して出力**"
      ],
      "metadata": {
        "id": "JtbTtnIlK0hh"
      }
    },
    {
      "cell_type": "code",
      "source": [
        "a,b=1,1\n",
        "\n",
        "while a<10:\n",
        " while b<10:\n",
        "   print(a*b)\n",
        "   b += 1\n",
        "\n",
        " b=1\n",
        " a += 1"
      ],
      "metadata": {
        "id": "g9guHwRrf6yC"
      },
      "execution_count": null,
      "outputs": []
    },
    {
      "cell_type": "markdown",
      "source": [
        "**解答例**"
      ],
      "metadata": {
        "id": "jgsYdZlBLTtt"
      }
    },
    {
      "cell_type": "code",
      "source": [
        "for i in range(9):\n",
        "    for j in range(9):\n",
        "        print('{}×{}={}'.format(i+1, j+1, (i+1)*(j+1)))"
      ],
      "metadata": {
        "id": "ju8vXgNXiXUM"
      },
      "execution_count": null,
      "outputs": []
    },
    {
      "cell_type": "markdown",
      "source": [
        "**[第4章　練習4-4(2)]　問題：奇数の段のみを計算**"
      ],
      "metadata": {
        "id": "2opaqjryLZRc"
      }
    },
    {
      "cell_type": "code",
      "source": [
        "a,b=1,1\n",
        "\n",
        "while a<10: #a=1 b=1\n",
        "\n",
        " if a % 2 == 0:\n",
        "  a += 1\n",
        "  continue\n",
        "\n",
        " else:\n",
        "\n",
        "  while b<10:\n",
        "   print('{}×{}={}'.format(a,b,a*b))\n",
        "   b += 1 #a=1 b=2\n",
        "\n",
        " b=1\n",
        " a += 1 #a=2 b=1"
      ],
      "metadata": {
        "id": "rXegcrurpFM7"
      },
      "execution_count": null,
      "outputs": []
    },
    {
      "cell_type": "markdown",
      "source": [
        "**解答例**"
      ],
      "metadata": {
        "id": "8ZXc9CDNLq8w"
      }
    },
    {
      "cell_type": "code",
      "source": [
        "for i in range(9):\n",
        "    if (i+1) % 2 == 0:\n",
        "        continue\n",
        "    for j in range(9):\n",
        "        print('{}×{}={}'.format(i+1, j+1, (i+1)*(j+1)))"
      ],
      "metadata": {
        "id": "7svPSNfc4_OO"
      },
      "execution_count": null,
      "outputs": []
    },
    {
      "cell_type": "markdown",
      "source": [
        "**[第4章　練習4-4(3)]　問題：掛け算の答えが50を超えたらその段の計算を中止**"
      ],
      "metadata": {
        "id": "Rqg3xePeMt2g"
      }
    },
    {
      "cell_type": "code",
      "source": [
        "a,b=1,1\n",
        "\n",
        "while a<10: #a=7 b=8\n",
        "\n",
        " if a % 2 == 0:\n",
        "  a += 1\n",
        "  continue\n",
        "\n",
        " else:\n",
        "\n",
        "  while b<10:\n",
        "   if a*b <= 50:\n",
        "    print('{}×{}={}'.format(a,b,a*b))\n",
        "    b += 1 #a=1 b=2\n",
        "\n",
        "   else:\n",
        "    break\n",
        "\n",
        " b=1\n",
        " a += 1 #a=2 b=1"
      ],
      "metadata": {
        "id": "TrzdHv3ZAvlo"
      },
      "execution_count": null,
      "outputs": []
    },
    {
      "cell_type": "markdown",
      "source": [
        "**解答例**"
      ],
      "metadata": {
        "id": "O8QCzP3oPaG3"
      }
    },
    {
      "cell_type": "code",
      "source": [
        "for i in range(9):\n",
        "    if (i+1) % 2 == 0:\n",
        "        continue\n",
        "    for j in range(9):\n",
        "        if (i+1)*(j+1) > 50:\n",
        "            break\n",
        "        print('{}×{}={}'.format(i+1, j+1, (i+1)*(j+1)))"
      ],
      "metadata": {
        "id": "7SpmAkJmOfyZ"
      },
      "execution_count": null,
      "outputs": []
    },
    {
      "cell_type": "markdown",
      "source": [
        "**[第4章　練習4-5(1),(2)]　問題:気温を1件ずつ取り出して表示**"
      ],
      "metadata": {
        "id": "Omqa09wBPzjX"
      }
    },
    {
      "cell_type": "code",
      "source": [
        "temp = {'8時':7.8, '9時':9.1, '10時':10.2, '11時':11.0, '12時':12.5, '13時':12.4, '14時':14.3, '15時':13.8, '16時':12.9, '17時':12.4}\n",
        "\n",
        "for time in range(10):\n",
        " print(temp['{}時'.format(time+8)])"
      ],
      "metadata": {
        "id": "--dMiWEcRc70"
      },
      "execution_count": null,
      "outputs": []
    },
    {
      "cell_type": "markdown",
      "source": [
        "解答例"
      ],
      "metadata": {
        "id": "h1qsXYS_dsl7"
      }
    },
    {
      "cell_type": "code",
      "source": [
        "temp = list()\n",
        "for n in range(10):\n",
        "    data = float(input('{}個目のデータを入力 >>'.format(n+1)))\n",
        "    temp.append(data)\n",
        "\n",
        "for count in range(len(temp)):\n",
        "    print('{}時 {}度'.format(count+8, temp[count]))"
      ],
      "metadata": {
        "colab": {
          "base_uri": "https://localhost:8080/"
        },
        "id": "BhBTSIlcduKg",
        "outputId": "94be57c6-796a-4527-d83b-480cc89361fc"
      },
      "execution_count": null,
      "outputs": [
        {
          "output_type": "stream",
          "name": "stdout",
          "text": [
            "1個目のデータを入力 >>7.8\n",
            "2個目のデータを入力 >>9.1\n",
            "3個目のデータを入力 >>10.2\n",
            "4個目のデータを入力 >>11.0\n",
            "5個目のデータを入力 >>12.5\n",
            "6個目のデータを入力 >>12.4\n",
            "7個目のデータを入力 >>14.3\n",
            "8個目のデータを入力 >>13.8\n",
            "9個目のデータを入力 >>12.9\n",
            "10個目のデータを入力 >>12.4\n",
            "8時 7.8度\n",
            "9時 9.1度\n",
            "10時 10.2度\n",
            "11時 11.0度\n",
            "12時 12.5度\n",
            "13時 12.4度\n",
            "14時 14.3度\n",
            "15時 13.8度\n",
            "16時 12.9度\n",
            "17時 12.4度\n"
          ]
        }
      ]
    },
    {
      "cell_type": "markdown",
      "source": [
        "**[第4章　練習4-5(4)]　問題:13時のデータをN/Aに、平均気温を表示**"
      ],
      "metadata": {
        "id": "pBJUFhKhZDwC"
      }
    },
    {
      "cell_type": "code",
      "source": [
        "temp = {'8時':7.8, '9時':9.1, '10時':10.2, '11時':11.0, '12時':12.5, '13時':12.4, '14時':14.3, '15時':13.8, '16時':12.9, '17時':12.4}\n",
        "\n",
        "temp_new = temp.copy()\n",
        "temp_new['13時']='N/A'\n",
        "print(temp)\n",
        "print(temp_new)\n",
        "\n",
        "for time in range(10):\n",
        " if type(temp_new['{}時'.format(time+8)]) == str:\n",
        "  del temp_new['{}時'.format(time+8)]\n",
        "\n",
        "print(temp_new)\n",
        "avarage = sum(list(temp_new.values())) / len(temp_new)\n",
        "print('平均気温は{}度です'.format(avarage))"
      ],
      "metadata": {
        "colab": {
          "base_uri": "https://localhost:8080/"
        },
        "id": "0Pz1WxGmW0fs",
        "outputId": "57b9a7d7-4685-4a8c-9bb5-401bcf706444"
      },
      "execution_count": null,
      "outputs": [
        {
          "output_type": "stream",
          "name": "stdout",
          "text": [
            "{'8時': 7.8, '9時': 9.1, '10時': 10.2, '11時': 11.0, '12時': 12.5, '13時': 12.4, '14時': 14.3, '15時': 13.8, '16時': 12.9, '17時': 12.4}\n",
            "{'8時': 7.8, '9時': 9.1, '10時': 10.2, '11時': 11.0, '12時': 12.5, '13時': 'N/A', '14時': 14.3, '15時': 13.8, '16時': 12.9, '17時': 12.4}\n",
            "{'8時': 7.8, '9時': 9.1, '10時': 10.2, '11時': 11.0, '12時': 12.5, '14時': 14.3, '15時': 13.8, '16時': 12.9, '17時': 12.4}\n",
            "平均気温は11.555555555555555度です\n"
          ]
        }
      ]
    },
    {
      "cell_type": "markdown",
      "source": [
        "解答例"
      ],
      "metadata": {
        "id": "d4eEKKrheN2R"
      }
    },
    {
      "cell_type": "code",
      "source": [
        "temp_new = list()\n",
        "for count in range(len(temp)):\n",
        "    if count == 5:\n",
        "        temp_new.append('N/A')\n",
        "    else:\n",
        "        temp_new.append(temp[count])\n",
        "print(temp)\n",
        "print(temp_new)\n",
        "\n",
        "# (4)\n",
        "total = 0\n",
        "for data in temp_new:\n",
        "    if isinstance(data, float):\n",
        "        total = total + data\n",
        "print(total / (len(temp_new) - 1))"
      ],
      "metadata": {
        "colab": {
          "base_uri": "https://localhost:8080/"
        },
        "id": "W3Gqlo7meNDP",
        "outputId": "917a91ae-6b75-46b3-a4b5-ca5f9f92176b"
      },
      "execution_count": null,
      "outputs": [
        {
          "output_type": "stream",
          "name": "stdout",
          "text": [
            "[7.8, 9.1, 10.2, 11.0, 12.5, 12.4, 14.3, 13.8, 12.9, 12.4]\n",
            "[7.8, 9.1, 10.2, 11.0, 12.5, 'N/A', 14.3, 13.8, 12.9, 12.4]\n",
            "11.555555555555555\n"
          ]
        }
      ]
    }
  ]
}